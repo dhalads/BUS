{
 "cells": [
  {
   "cell_type": "code",
   "execution_count": 8,
   "metadata": {},
   "outputs": [
    {
     "name": "stdout",
     "output_type": "stream",
     "text": [
      "{\n",
      "  \"shell_port\": 62427,\n",
      "  \"iopub_port\": 62428,\n",
      "  \"stdin_port\": 62429,\n",
      "  \"control_port\": 62431,\n",
      "  \"hb_port\": 62430,\n",
      "  \"ip\": \"127.0.0.1\",\n",
      "  \"key\": \"da5304bb-4a5d226ece94bd1ffc936dbf\",\n",
      "  \"transport\": \"tcp\",\n",
      "  \"signature_scheme\": \"hmac-sha256\",\n",
      "  \"kernel_name\": \"\"\n",
      "}\n",
      "\n",
      "Paste the above JSON into a file, and connect with:\n",
      "    $> jupyter <app> --existing <file>\n",
      "or, if you are local, you can connect with just:\n",
      "    $> jupyter <app> --existing kernel-184f50ef-6e96-42c5-99ca-33c83e277269.json\n",
      "or even just:\n",
      "    $> jupyter <app> --existing\n",
      "if this is the most recent Jupyter kernel you have started.\n"
     ]
    }
   ],
   "source": [
    "# !pip install ipydatagrid\n",
    "%connect_info"
   ]
  },
  {
   "cell_type": "code",
   "execution_count": 1,
   "metadata": {
    "init_cell": true,
    "tags": [
     "hide_input"
    ]
   },
   "outputs": [
    {
     "name": "stdout",
     "output_type": "stream",
     "text": [
      "c:\\Users\\djhalama\\Documents\\GitHub\\BUS\n"
     ]
    }
   ],
   "source": [
    "import os\n",
    "import sys\n",
    "import logging\n",
    "import json, logging.config\n",
    "localPath = \"c:\\\\Users\\\\djhalama\\\\Documents\\\\GitHub\\\\BUS\"\n",
    "if os.path.exists(localPath):\n",
    "    # print(f\"localPath exists: {localPath}\")\n",
    "    os.chdir(\"c:\\\\Users\\\\djhalama\\\\Documents\\\\GitHub\\\\BUS\")\n",
    "else:\n",
    "    from google.colab import drive\n",
    "    drive.mount('/content/gdrive')\n",
    "    os.chdir('/content/gdrive/MyDrive/BUS_Project_Home/Share_with_group/David_Halama/BUS')\n",
    "    sys.path.append('/content/gdrive/MyDrive/BUS_Project_Home/Share_with_group/David_Halama/BUS/Segmentation')\n",
    "from Common import Common\n",
    "# https://coralogix.com/log-analytics-blog/python-logging-best-practices-tips/\n",
    "with open('logging-config.json', 'rt') as f:\n",
    "    config = json.load(f)\n",
    "    logging.config.dictConfig(config)\n",
    "\n",
    "print(os.getcwd())"
   ]
  },
  {
   "cell_type": "code",
   "execution_count": 2,
   "metadata": {
    "init_cell": true,
    "tags": [
     "hide_input"
    ]
   },
   "outputs": [
    {
     "name": "stderr",
     "output_type": "stream",
     "text": [
      "help me\n"
     ]
    },
    {
     "name": "stdout",
     "output_type": "stream",
     "text": [
      "inrun\n"
     ]
    },
    {
     "data": {
      "application/vnd.jupyter.widget-view+json": {
       "model_id": "74984adbb6cc4d8892d791a68aa3d50d",
       "version_major": 2,
       "version_minor": 0
      },
      "text/plain": [
       "VBox(children=(VBox(children=(HBox(children=(Text(value='4-6', description='Enter id list:', placeholder=''), …"
      ]
     },
     "metadata": {},
     "output_type": "display_data"
    }
   ],
   "source": [
    "from ProcessImage import busUI\n",
    "\n",
    "def run():\n",
    "    logger = logging.getLogger(\"BUStest\")\n",
    "    print(\"inrun\")\n",
    "    # pimg.load(np.arange(1,144)) #80, 101, 125\n",
    "    # pimg.display7((80,))\n",
    "    # pimg.runSaveGTStats(np.arange(1, 144))\n",
    "    # pimg.segList.saveROIStats()\n",
    "    logger.error(\"help me\")\n",
    "    bus = busUI()\n",
    "    bus.initUI()\n",
    "\n",
    "run()"
   ]
  }
 ],
 "metadata": {
  "celltoolbar": "Tags",
  "kernelspec": {
   "display_name": "bus",
   "language": "python",
   "name": "bus"
  },
  "language_info": {
   "codemirror_mode": {
    "name": "ipython",
    "version": 3
   },
   "file_extension": ".py",
   "mimetype": "text/x-python",
   "name": "python",
   "nbconvert_exporter": "python",
   "pygments_lexer": "ipython3",
   "version": "3.9.4"
  },
  "toc": {
   "base_numbering": 1,
   "nav_menu": {},
   "number_sections": false,
   "sideBar": false,
   "skip_h1_title": false,
   "title_cell": "Table of Contents",
   "title_sidebar": "Contents",
   "toc_cell": false,
   "toc_position": {},
   "toc_section_display": false,
   "toc_window_display": false
  }
 },
 "nbformat": 4,
 "nbformat_minor": 2
}
