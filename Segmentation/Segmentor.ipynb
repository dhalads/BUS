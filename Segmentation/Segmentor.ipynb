{
 "cells": [
  {
   "cell_type": "code",
   "execution_count": null,
   "metadata": {
    "colab": {
     "base_uri": "https://localhost:8080/"
    },
    "executionInfo": {
     "elapsed": 403,
     "status": "ok",
     "timestamp": 1619007336873,
     "user": {
      "displayName": "David Halama",
      "photoUrl": "",
      "userId": "17455498899351588490"
     },
     "user_tz": 300
    },
    "id": "3gB0RPwXOhi3",
    "outputId": "e4ccbe23-48a6-4700-df3f-18bbe9b9c74b"
   },
   "outputs": [],
   "source": [
    "\n",
    "    from google.colab import drive\n",
    "    drive.mount('/content/gdrive')\n",
    "\n",
    "\n"
   ]
  },
  {
   "cell_type": "code",
   "execution_count": null,
   "metadata": {
    "colab": {
     "base_uri": "https://localhost:8080/"
    },
    "executionInfo": {
     "elapsed": 585,
     "status": "ok",
     "timestamp": 1619006784888,
     "user": {
      "displayName": "David Halama",
      "photoUrl": "",
      "userId": "17455498899351588490"
     },
     "user_tz": 300
    },
    "id": "zKccbmVUO3B3",
    "outputId": "6fd9219c-2252-4a3a-c39a-1e2cc9064f1d"
   },
   "outputs": [],
   "source": [
    "import os\n",
    "print(os.getcwd())\n",
    "# os.chdir(\"/content/gdrive/MyDrive/Documents/Segmentation\")\n",
    "print(os.getcwd())\n",
    "x = \"help\"\n",
    "y = [\"4\", \"5\"]"
   ]
  },
  {
   "cell_type": "code",
   "execution_count": null,
   "metadata": {
    "tags": [
     "outputPrepend"
    ]
   },
   "outputs": [],
   "source": [
    "%run -i ProcessImage.py\n",
    "display(seg.contourStats)"
   ]
  },
  {
   "cell_type": "code",
   "execution_count": null,
   "metadata": {},
   "outputs": [],
   "source": []
  }
 ],
 "metadata": {
  "colab": {
   "authorship_tag": "ABX9TyO/Z98IREy8dzuL3ISb0NdV",
   "collapsed_sections": [],
   "name": "Segmentor.ipynb",
   "provenance": []
  },
  "kernelspec": {
   "name": "python392jvsc74a57bd0f3640f6259ccd301e6fab036d4c63b0c88a475ed616cc9240a26db31623189b0",
   "display_name": "Python 3.9.2 64-bit ('bus': conda)"
  },
  "language_info": {
   "file_extension": ".py",
   "mimetype": "text/x-python",
   "name": "python",
   "version": "3.9.2"
  },
  "metadata": {
   "interpreter": {
    "hash": "f3640f6259ccd301e6fab036d4c63b0c88a475ed616cc9240a26db31623189b0"
   }
  }
 },
 "nbformat": 4,
 "nbformat_minor": 4
}