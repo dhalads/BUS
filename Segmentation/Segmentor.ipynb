{
 "cells": [
  {
   "cell_type": "code",
   "execution_count": null,
   "metadata": {
    "tags": [
     "hide-input"
    ]
   },
   "outputs": [],
   "source": [
    "from IPython.core.display import display, HTML\n",
    "display(HTML(\"<style>.container { width:100% !important; }</style>\"))\n",
    "\n",
    "from ProcessImage import ProcessImage\n",
    "pimg = ProcessImage()\n",
    "pimg.main()\n",
    "\n",
    "import matplotlib.pyplot as plt\n",
    "from mpl_toolkits.mplot3d import Axes3D\n",
    "import numpy as np\n",
    "from scipy.stats import multivariate_normal\n",
    "import numpy as np\n",
    "import scipy.misc\n",
    "import scipy.ndimage\n",
    "import matplotlib.pyplot as plt\n",
    "from PIL import Image, ImageOps\n",
    "from skimage import segmentation\n",
    "from skimage.filters import sobel\n",
    "from skimage.color import label2rgb\n",
    "from numpy import asarray\n",
    "import math\n",
    "from mpl_toolkits.mplot3d import Axes3D\n",
    "from matplotlib import cm\n",
    "import cv2\n",
    "from BUSSegmentor import BUSSegmentor\n",
    "from BUSSegmentorList import BUSSegmentorList\n",
    "from ProcessImage import ProcessImage\n",
    "from ProcessImage import busUI\n",
    "# for reading files from urls\n",
    "import urllib.request\n",
    "# display imports\n",
    "from IPython.display import display, IFrame\n",
    "from IPython.core.display import HTML\n",
    "import logging\n",
    "import json, logging.config\n",
    "import importlib\n",
    "\n",
    "\n",
    "# %run -i ProcessImage.py\n",
    "# display(seg.contourStats)\n",
    "\n",
    "# importlib.reload(BUSSegmentor)\n",
    "\n",
    "def run():\n",
    "    # pimg.load(np.arange(1,144)) #80, 101, 125\n",
    "    # pimg.display7((80,))\n",
    "    # pimg.runSaveGTStats(np.arange(1, 144))\n",
    "    # pimg.segList.saveROIStats()\n",
    "    bus = busUI()\n",
    "    bus.initUI()\n",
    "\n",
    "run()"
   ]
  },
  {
   "cell_type": "code",
   "execution_count": null,
   "metadata": {},
   "outputs": [],
   "source": [
    "# from IPython.core.display import HTML\n",
    "# HTML(\"<script>Jupyter.notebook.kernel.restart()</script>\")\n"
   ]
  },
  {
   "cell_type": "code",
   "execution_count": null,
   "metadata": {},
   "outputs": [],
   "source": []
  },
  {
   "cell_type": "code",
   "execution_count": null,
   "metadata": {},
   "outputs": [],
   "source": []
  }
 ],
 "metadata": {
  "celltoolbar": "Edit Metadata",
  "colab": {
   "authorship_tag": "ABX9TyO/Z98IREy8dzuL3ISb0NdV",
   "collapsed_sections": [],
   "name": "Segmentor.ipynb",
   "provenance": []
  },
  "kernelspec": {
   "display_name": "bus",
   "language": "python",
   "name": "bus"
  },
  "language_info": {
   "codemirror_mode": {
    "name": "ipython",
    "version": 3
   },
   "file_extension": ".py",
   "mimetype": "text/x-python",
   "name": "python",
   "nbconvert_exporter": "python",
   "pygments_lexer": "ipython3",
   "version": "3.7.9"
  },
  "metadata": {
   "interpreter": {
    "hash": "f3640f6259ccd301e6fab036d4c63b0c88a475ed616cc9240a26db31623189b0"
   }
  }
 },
 "nbformat": 4,
 "nbformat_minor": 4
}
