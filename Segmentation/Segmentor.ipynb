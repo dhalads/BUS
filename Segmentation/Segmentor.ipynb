{
 "cells": [
  {
   "cell_type": "code",
   "execution_count": null,
   "metadata": {
    "init_cell": true,
    "tags": [
     "hide-input"
    ]
   },
   "outputs": [],
   "source": [
    "import os\n",
    "import sys\n",
    "import logging\n",
    "import json, logging.config\n",
    "\n",
    "from IPython.core.display import display, HTML\n",
    "display(HTML(\"<style>.container { width:100% !important; }</style>\"))\n",
    "\n",
    "if \"google.colab\" in sys.modules:\n",
    "    from google.colab import drive\n",
    "    drive.mount('/content/gdrive')\n",
    "    os.chdir('/content/gdrive/.shortcut-targets-by-id/1vMzK9J4qysmceXoMlEQPYZoLdu67Wu64/BUS Project Home/Share_with_group/David_Halama/BUS')\n",
    "    sys.path.append('/content/gdrive/.shortcut-targets-by-id/1vMzK9J4qysmceXoMlEQPYZoLdu67Wu64/BUS Project Home/Share_with_group/David_Halama/BUS/Segmentation')\n",
    "    from Common import Common\n",
    "    Common.HomeProjectFolder = \"/content/gdrive/.shortcut-targets-by-id/1vMzK9J4qysmceXoMlEQPYZoLdu67Wu64/BUS Project Home\"\n",
    "    # print(os.getcwd())\n",
    "    # !ls -la /content/gdrive/MyDrive\n",
    "    with open('logging-config-colab.json', 'rt') as f:\n",
    "        config = json.load(f)\n",
    "        logging.config.dictConfig(config)\n",
    "else:\n",
    "    os.chdir('/home/djhalama/Documents/GitHub/BUS')\n",
    "    sys.path.append('/home/djhalama/Documents/GitHub/BUS/Segmentation')\n",
    "    from Common import Common\n",
    "    Common.HomeProjectFolder = \"/mnt/c/Users/djhalama/Documents/Education/DS-785/BUS Project Home\"\n",
    "    with open('logging-config.json', 'rt') as f:\n",
    "        config = json.load(f)\n",
    "        logging.config.dictConfig(config)\n",
    "\n",
    "# print(os.getcwd())\n",
    "# print(Common.HomeProjectFolder)\n",
    "\n",
    "from ProcessImage import busUI\n",
    "def run():\n",
    "    # pimg.load(np.arange(1,144)) #80, 101, 125\n",
    "    # pimg.display7((80,))\n",
    "    # pimg.runSaveGTStats(np.arange(1, 144))\n",
    "    # pimg.segList.saveROIStats()\n",
    "    bus = busUI()\n",
    "    bus.initUI()\n",
    "\n",
    "run()"
   ]
  },
  {
   "cell_type": "code",
   "execution_count": null,
   "metadata": {},
   "outputs": [],
   "source": []
  }
 ],
 "metadata": {
  "celltoolbar": "Edit Metadata",
  "colab": {
   "authorship_tag": "ABX9TyO/Z98IREy8dzuL3ISb0NdV",
   "collapsed_sections": [],
   "name": "Segmentor.ipynb",
   "provenance": []
  },
  "interpreter": {
   "hash": "383f8d50aee2b25a42a4e4267d70b531d3e5cf523ae944eee10bcef7785973ff"
  },
  "kernelspec": {
   "display_name": "Python 3",
   "language": "python",
   "name": "python3"
  },
  "language_info": {
   "codemirror_mode": {
    "name": "ipython",
    "version": 3
   },
   "file_extension": ".py",
   "mimetype": "text/x-python",
   "name": "python",
   "nbconvert_exporter": "python",
   "pygments_lexer": "ipython3",
   "version": "3.7.10"
  },
  "metadata": {
   "interpreter": {
    "hash": "f3640f6259ccd301e6fab036d4c63b0c88a475ed616cc9240a26db31623189b0"
   }
  },
  "toc": {
   "base_numbering": 1,
   "nav_menu": {},
   "number_sections": false,
   "sideBar": false,
   "skip_h1_title": false,
   "title_cell": "Table of Contents",
   "title_sidebar": "Contents",
   "toc_cell": false,
   "toc_position": {},
   "toc_section_display": false,
   "toc_window_display": false
  }
 },
 "nbformat": 4,
 "nbformat_minor": 4
}
