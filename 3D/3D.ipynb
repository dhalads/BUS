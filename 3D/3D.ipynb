{
  "nbformat": 4,
  "nbformat_minor": 0,
  "metadata": {
    "colab": {
      "name": "3D.ipynb",
      "provenance": []
    },
    "kernelspec": {
      "name": "bus",
      "display_name": "Python 3.7.9 64-bit (conda)"
    },
    "language_info": {
      "name": "python",
      "version": "3.7.9-final"
    }
  },
  "cells": [
    {
      "cell_type": "code",
      "metadata": {
        "id": "13DCHtd9M8-b"
      },
      "source": [
        "from google.colab import drive\n",
        "drive.mount('/content/gdrive')\n",
        "\n",
        "import matplotlib.pyplot as plt\n",
        "from mpl_toolkits.mplot3d import Axes3D\n",
        "\n",
        "import numpy as np\n",
        "import scipy.misc\n",
        "import scipy.ndimage\n",
        "import matplotlib.pyplot as plt\n",
        "from PIL import Image, ImageOps\n",
        "from skimage import segmentation\n",
        "from skimage.filters import sobel\n",
        "from skimage.color import label2rgb\n",
        "from numpy import asarray\n",
        "\n",
        "# def get_bus(full_filename):\n",
        "#   image = Image.open(full_filename).convert('L') # Make sure to convert to grayscale\n",
        "#   image_inv = ImageOps.invert(image)\n",
        "#   bus = asarray(image_inv)\n",
        "#   return bus\n",
        "\n",
        "# bus = get_bus(\"gdrive/MyDrive/BUS_Project_Home/Datasets/BUS_Dataset_B/original/000031.png\")\n",
        "# print(bus.shape)\n",
        "\n",
        "# # fig = plt.figure(figsize=(4,4))\n",
        "# fig = plt.figure()\n",
        "\n",
        "# ax = fig.add_subplot(111, projection='3d')\n",
        "\n",
        "# ax.plot_sur\n",
        "\n",
        "import matplotlib.pyplot as plt\n",
        "\n",
        "from mpl_toolkits.mplot3d import Axes3D\n",
        "\n",
        "import numpy as np\n",
        "\n",
        "from scipy.stats import multivariate_normal\n",
        "\n",
        "X = np.linspace(-5,5,50)\n",
        "\n",
        "Y = np.linspace(-5,5,50)\n",
        "\n",
        "X, Y = np.meshgrid(X,Y)\n",
        "\n",
        "X_mean = 0; Y_mean = 0\n",
        "\n",
        "X_var = 5; Y_var = 8\n",
        "\n",
        "pos = np.empty(X.shape+(2,))\n",
        "\n",
        "pos[:,:,0]=X\n",
        "\n",
        "pos[:,:,1]=Y\n",
        "\n",
        "rv = multivariate_normal([X_mean, Y_mean],[[X_var, 0], [0, Y_var]])\n",
        "\n",
        "fig = plt.figure()\n",
        "\n",
        "ax = fig.add_subplot(111, projection='3d')\n",
        "\n",
        "ax.plot_surface(X, Y, rv.pdf(pos), cmap=\"plasma\")\n",
        "\n",
        "plt.show()\n"
      ],
      "execution_count": 1,
      "outputs": [
        {
          "output_type": "error",
          "ename": "ModuleNotFoundError",
          "evalue": "No module named 'google'",
          "traceback": [
            "\u001b[1;31m---------------------------------------------------------------------------\u001b[0m",
            "\u001b[1;31mModuleNotFoundError\u001b[0m                       Traceback (most recent call last)",
            "\u001b[1;32m<ipython-input-1-237728d566d8>\u001b[0m in \u001b[0;36m<module>\u001b[1;34m\u001b[0m\n\u001b[1;32m----> 1\u001b[1;33m \u001b[1;32mfrom\u001b[0m \u001b[0mgoogle\u001b[0m\u001b[1;33m.\u001b[0m\u001b[0mcolab\u001b[0m \u001b[1;32mimport\u001b[0m \u001b[0mdrive\u001b[0m\u001b[1;33m\u001b[0m\u001b[1;33m\u001b[0m\u001b[0m\n\u001b[0m\u001b[0;32m      2\u001b[0m \u001b[0mdrive\u001b[0m\u001b[1;33m.\u001b[0m\u001b[0mmount\u001b[0m\u001b[1;33m(\u001b[0m\u001b[1;34m'/content/gdrive'\u001b[0m\u001b[1;33m)\u001b[0m\u001b[1;33m\u001b[0m\u001b[1;33m\u001b[0m\u001b[0m\n\u001b[0;32m      3\u001b[0m \u001b[1;33m\u001b[0m\u001b[0m\n\u001b[0;32m      4\u001b[0m \u001b[1;32mimport\u001b[0m \u001b[0mmatplotlib\u001b[0m\u001b[1;33m.\u001b[0m\u001b[0mpyplot\u001b[0m \u001b[1;32mas\u001b[0m \u001b[0mplt\u001b[0m\u001b[1;33m\u001b[0m\u001b[1;33m\u001b[0m\u001b[0m\n\u001b[0;32m      5\u001b[0m \u001b[1;32mfrom\u001b[0m \u001b[0mmpl_toolkits\u001b[0m\u001b[1;33m.\u001b[0m\u001b[0mmplot3d\u001b[0m \u001b[1;32mimport\u001b[0m \u001b[0mAxes3D\u001b[0m\u001b[1;33m\u001b[0m\u001b[1;33m\u001b[0m\u001b[0m\n",
            "\u001b[1;31mModuleNotFoundError\u001b[0m: No module named 'google'"
          ]
        }
      ]
    },
    {
      "cell_type": "code",
      "metadata": {
        "id": "FNyOedb6J2jt"
      },
      "source": [],
      "execution_count": null,
      "outputs": []
    },
    {
      "cell_type": "markdown",
      "metadata": {
        "id": "Gp3f-MH4JgPv"
      },
      "source": [
        "# New Section"
      ]
    }
  ]
}