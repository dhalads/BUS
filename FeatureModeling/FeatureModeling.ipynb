{
 "cells": [
  {
   "cell_type": "code",
   "execution_count": null,
   "metadata": {
    "colab": {
     "base_uri": "https://localhost:8080/"
    },
    "executionInfo": {
     "elapsed": 403,
     "status": "ok",
     "timestamp": 1619007336873,
     "user": {
      "displayName": "David Halama",
      "photoUrl": "",
      "userId": "17455498899351588490"
     },
     "user_tz": 300
    },
    "id": "3gB0RPwXOhi3",
    "outputId": "e4ccbe23-48a6-4700-df3f-18bbe9b9c74b"
   },
   "outputs": [],
   "source": [
    "try\n",
    "    from google.colab import drive\n",
    "    drive.mount('/content/gdrive')\n",
    "\n",
    "\n"
   ]
  },
  {
   "cell_type": "code",
   "execution_count": 32,
   "metadata": {
    "colab": {
     "base_uri": "https://localhost:8080/"
    },
    "executionInfo": {
     "elapsed": 585,
     "status": "ok",
     "timestamp": 1619006784888,
     "user": {
      "displayName": "David Halama",
      "photoUrl": "",
      "userId": "17455498899351588490"
     },
     "user_tz": 300
    },
    "id": "zKccbmVUO3B3",
    "outputId": "6fd9219c-2252-4a3a-c39a-1e2cc9064f1d"
   },
   "outputs": [
    {
     "name": "stdout",
     "output_type": "stream",
     "text": [
      "C:\\Users\\djhalama\\Documents\\GitHub\\BUS\\FeatureModeling\n",
      "c:\\Users\\djhalama\\Documents\\GitHub\\BUS\n"
     ]
    }
   ],
   "source": [
    "import os\n",
    "print(os.getcwd())\n",
    "# os.chdir(\"/content/gdrive/MyDrive/Documents/Segmentation\")\n",
    "os.chdir(\"c:\\\\Users\\\\djhalama\\\\Documents\\\\GitHub\\\\BUS\")\n",
    "print(os.getcwd())\n"
   ]
  },
  {
   "cell_type": "code",
   "execution_count": 51,
   "metadata": {
    "scrolled": false
   },
   "outputs": [
    {
     "data": {
      "text/html": [
       "<style  type=\"text/css\" >\n",
       "    #T_4e23db5e_a86c_11eb_be11_283a4d6fadee th {\n",
       "          text-align: left;\n",
       "    }#T_4e23db5e_a86c_11eb_be11_283a4d6fadeerow0_col0,#T_4e23db5e_a86c_11eb_be11_283a4d6fadeerow0_col6,#T_4e23db5e_a86c_11eb_be11_283a4d6fadeerow1_col0,#T_4e23db5e_a86c_11eb_be11_283a4d6fadeerow1_col6,#T_4e23db5e_a86c_11eb_be11_283a4d6fadeerow2_col0,#T_4e23db5e_a86c_11eb_be11_283a4d6fadeerow2_col1,#T_4e23db5e_a86c_11eb_be11_283a4d6fadeerow2_col2,#T_4e23db5e_a86c_11eb_be11_283a4d6fadeerow2_col3,#T_4e23db5e_a86c_11eb_be11_283a4d6fadeerow2_col4,#T_4e23db5e_a86c_11eb_be11_283a4d6fadeerow2_col5,#T_4e23db5e_a86c_11eb_be11_283a4d6fadeerow2_col6,#T_4e23db5e_a86c_11eb_be11_283a4d6fadeerow2_col7,#T_4e23db5e_a86c_11eb_be11_283a4d6fadeerow3_col0,#T_4e23db5e_a86c_11eb_be11_283a4d6fadeerow3_col1,#T_4e23db5e_a86c_11eb_be11_283a4d6fadeerow3_col2,#T_4e23db5e_a86c_11eb_be11_283a4d6fadeerow3_col3,#T_4e23db5e_a86c_11eb_be11_283a4d6fadeerow3_col4,#T_4e23db5e_a86c_11eb_be11_283a4d6fadeerow3_col5,#T_4e23db5e_a86c_11eb_be11_283a4d6fadeerow3_col6,#T_4e23db5e_a86c_11eb_be11_283a4d6fadeerow3_col7,#T_4e23db5e_a86c_11eb_be11_283a4d6fadeerow4_col0,#T_4e23db5e_a86c_11eb_be11_283a4d6fadeerow4_col1,#T_4e23db5e_a86c_11eb_be11_283a4d6fadeerow4_col2,#T_4e23db5e_a86c_11eb_be11_283a4d6fadeerow4_col3,#T_4e23db5e_a86c_11eb_be11_283a4d6fadeerow4_col4,#T_4e23db5e_a86c_11eb_be11_283a4d6fadeerow4_col5,#T_4e23db5e_a86c_11eb_be11_283a4d6fadeerow4_col6,#T_4e23db5e_a86c_11eb_be11_283a4d6fadeerow4_col7,#T_4e23db5e_a86c_11eb_be11_283a4d6fadeerow5_col0,#T_4e23db5e_a86c_11eb_be11_283a4d6fadeerow5_col1,#T_4e23db5e_a86c_11eb_be11_283a4d6fadeerow5_col3,#T_4e23db5e_a86c_11eb_be11_283a4d6fadeerow5_col4,#T_4e23db5e_a86c_11eb_be11_283a4d6fadeerow5_col5,#T_4e23db5e_a86c_11eb_be11_283a4d6fadeerow5_col6,#T_4e23db5e_a86c_11eb_be11_283a4d6fadeerow5_col7,#T_4e23db5e_a86c_11eb_be11_283a4d6fadeerow6_col0,#T_4e23db5e_a86c_11eb_be11_283a4d6fadeerow6_col1,#T_4e23db5e_a86c_11eb_be11_283a4d6fadeerow6_col2,#T_4e23db5e_a86c_11eb_be11_283a4d6fadeerow6_col3,#T_4e23db5e_a86c_11eb_be11_283a4d6fadeerow6_col4,#T_4e23db5e_a86c_11eb_be11_283a4d6fadeerow6_col5,#T_4e23db5e_a86c_11eb_be11_283a4d6fadeerow6_col6,#T_4e23db5e_a86c_11eb_be11_283a4d6fadeerow6_col7,#T_4e23db5e_a86c_11eb_be11_283a4d6fadeerow7_col0,#T_4e23db5e_a86c_11eb_be11_283a4d6fadeerow7_col1,#T_4e23db5e_a86c_11eb_be11_283a4d6fadeerow7_col2,#T_4e23db5e_a86c_11eb_be11_283a4d6fadeerow7_col4,#T_4e23db5e_a86c_11eb_be11_283a4d6fadeerow7_col5,#T_4e23db5e_a86c_11eb_be11_283a4d6fadeerow7_col6,#T_4e23db5e_a86c_11eb_be11_283a4d6fadeerow7_col7,#T_4e23db5e_a86c_11eb_be11_283a4d6fadeerow8_col0,#T_4e23db5e_a86c_11eb_be11_283a4d6fadeerow8_col1,#T_4e23db5e_a86c_11eb_be11_283a4d6fadeerow8_col3,#T_4e23db5e_a86c_11eb_be11_283a4d6fadeerow8_col4,#T_4e23db5e_a86c_11eb_be11_283a4d6fadeerow8_col5,#T_4e23db5e_a86c_11eb_be11_283a4d6fadeerow8_col6,#T_4e23db5e_a86c_11eb_be11_283a4d6fadeerow8_col7,#T_4e23db5e_a86c_11eb_be11_283a4d6fadeerow9_col0,#T_4e23db5e_a86c_11eb_be11_283a4d6fadeerow9_col1,#T_4e23db5e_a86c_11eb_be11_283a4d6fadeerow9_col2,#T_4e23db5e_a86c_11eb_be11_283a4d6fadeerow9_col3,#T_4e23db5e_a86c_11eb_be11_283a4d6fadeerow9_col4,#T_4e23db5e_a86c_11eb_be11_283a4d6fadeerow9_col5,#T_4e23db5e_a86c_11eb_be11_283a4d6fadeerow9_col6,#T_4e23db5e_a86c_11eb_be11_283a4d6fadeerow9_col7,#T_4e23db5e_a86c_11eb_be11_283a4d6fadeerow10_col0,#T_4e23db5e_a86c_11eb_be11_283a4d6fadeerow10_col1,#T_4e23db5e_a86c_11eb_be11_283a4d6fadeerow10_col2,#T_4e23db5e_a86c_11eb_be11_283a4d6fadeerow10_col3,#T_4e23db5e_a86c_11eb_be11_283a4d6fadeerow10_col4,#T_4e23db5e_a86c_11eb_be11_283a4d6fadeerow10_col5,#T_4e23db5e_a86c_11eb_be11_283a4d6fadeerow10_col6,#T_4e23db5e_a86c_11eb_be11_283a4d6fadeerow10_col7,#T_4e23db5e_a86c_11eb_be11_283a4d6fadeerow11_col0,#T_4e23db5e_a86c_11eb_be11_283a4d6fadeerow11_col1,#T_4e23db5e_a86c_11eb_be11_283a4d6fadeerow11_col2,#T_4e23db5e_a86c_11eb_be11_283a4d6fadeerow11_col3,#T_4e23db5e_a86c_11eb_be11_283a4d6fadeerow11_col4,#T_4e23db5e_a86c_11eb_be11_283a4d6fadeerow11_col5,#T_4e23db5e_a86c_11eb_be11_283a4d6fadeerow11_col6,#T_4e23db5e_a86c_11eb_be11_283a4d6fadeerow11_col7,#T_4e23db5e_a86c_11eb_be11_283a4d6fadeerow12_col0,#T_4e23db5e_a86c_11eb_be11_283a4d6fadeerow12_col1,#T_4e23db5e_a86c_11eb_be11_283a4d6fadeerow12_col2,#T_4e23db5e_a86c_11eb_be11_283a4d6fadeerow12_col3,#T_4e23db5e_a86c_11eb_be11_283a4d6fadeerow12_col4,#T_4e23db5e_a86c_11eb_be11_283a4d6fadeerow12_col5,#T_4e23db5e_a86c_11eb_be11_283a4d6fadeerow12_col6,#T_4e23db5e_a86c_11eb_be11_283a4d6fadeerow12_col7{\n",
       "            text-align:  left;\n",
       "            text-align:  left;\n",
       "        }#T_4e23db5e_a86c_11eb_be11_283a4d6fadeerow0_col1,#T_4e23db5e_a86c_11eb_be11_283a4d6fadeerow0_col2,#T_4e23db5e_a86c_11eb_be11_283a4d6fadeerow0_col3,#T_4e23db5e_a86c_11eb_be11_283a4d6fadeerow0_col4,#T_4e23db5e_a86c_11eb_be11_283a4d6fadeerow0_col5,#T_4e23db5e_a86c_11eb_be11_283a4d6fadeerow0_col7,#T_4e23db5e_a86c_11eb_be11_283a4d6fadeerow1_col1,#T_4e23db5e_a86c_11eb_be11_283a4d6fadeerow1_col2,#T_4e23db5e_a86c_11eb_be11_283a4d6fadeerow1_col3,#T_4e23db5e_a86c_11eb_be11_283a4d6fadeerow1_col4,#T_4e23db5e_a86c_11eb_be11_283a4d6fadeerow1_col5,#T_4e23db5e_a86c_11eb_be11_283a4d6fadeerow1_col7,#T_4e23db5e_a86c_11eb_be11_283a4d6fadeerow5_col2,#T_4e23db5e_a86c_11eb_be11_283a4d6fadeerow7_col3,#T_4e23db5e_a86c_11eb_be11_283a4d6fadeerow8_col2{\n",
       "            text-align:  left;\n",
       "            text-align:  left;\n",
       "            background-color:  yellow;\n",
       "        }#T_4e23db5e_a86c_11eb_be11_283a4d6fadeerow0_col8,#T_4e23db5e_a86c_11eb_be11_283a4d6fadeerow1_col8,#T_4e23db5e_a86c_11eb_be11_283a4d6fadeerow4_col8,#T_4e23db5e_a86c_11eb_be11_283a4d6fadeerow5_col8,#T_4e23db5e_a86c_11eb_be11_283a4d6fadeerow6_col8,#T_4e23db5e_a86c_11eb_be11_283a4d6fadeerow7_col8,#T_4e23db5e_a86c_11eb_be11_283a4d6fadeerow8_col8,#T_4e23db5e_a86c_11eb_be11_283a4d6fadeerow9_col8,#T_4e23db5e_a86c_11eb_be11_283a4d6fadeerow10_col8,#T_4e23db5e_a86c_11eb_be11_283a4d6fadeerow11_col8,#T_4e23db5e_a86c_11eb_be11_283a4d6fadeerow12_col8{\n",
       "            text-align:  left;\n",
       "            text-align:  left;\n",
       "            background-color:  lightgrey;\n",
       "        }#T_4e23db5e_a86c_11eb_be11_283a4d6fadeerow2_col8,#T_4e23db5e_a86c_11eb_be11_283a4d6fadeerow3_col8{\n",
       "            text-align:  left;\n",
       "            text-align:  left;\n",
       "            background-color:  yellow;\n",
       "            background-color:  lightgrey;\n",
       "        }</style><table id=\"T_4e23db5e_a86c_11eb_be11_283a4d6fadee\" ><thead>    <tr>        <th class=\"blank level0\" ></th>        <th class=\"col_heading level0 col0\" >Model</th>        <th class=\"col_heading level0 col1\" >Accuracy</th>        <th class=\"col_heading level0 col2\" >AUC</th>        <th class=\"col_heading level0 col3\" >Recall</th>        <th class=\"col_heading level0 col4\" >Prec.</th>        <th class=\"col_heading level0 col5\" >F1</th>        <th class=\"col_heading level0 col6\" >Kappa</th>        <th class=\"col_heading level0 col7\" >MCC</th>        <th class=\"col_heading level0 col8\" >TT (Sec)</th>    </tr></thead><tbody>\n",
       "                <tr>\n",
       "                        <th id=\"T_4e23db5e_a86c_11eb_be11_283a4d6fadeelevel0_row0\" class=\"row_heading level0 row0\" >lr</th>\n",
       "                        <td id=\"T_4e23db5e_a86c_11eb_be11_283a4d6fadeerow0_col0\" class=\"data row0 col0\" >Logistic Regression</td>\n",
       "                        <td id=\"T_4e23db5e_a86c_11eb_be11_283a4d6fadeerow0_col1\" class=\"data row0 col1\" >1.0000</td>\n",
       "                        <td id=\"T_4e23db5e_a86c_11eb_be11_283a4d6fadeerow0_col2\" class=\"data row0 col2\" >0.7000</td>\n",
       "                        <td id=\"T_4e23db5e_a86c_11eb_be11_283a4d6fadeerow0_col3\" class=\"data row0 col3\" >0.7000</td>\n",
       "                        <td id=\"T_4e23db5e_a86c_11eb_be11_283a4d6fadeerow0_col4\" class=\"data row0 col4\" >0.7000</td>\n",
       "                        <td id=\"T_4e23db5e_a86c_11eb_be11_283a4d6fadeerow0_col5\" class=\"data row0 col5\" >0.7000</td>\n",
       "                        <td id=\"T_4e23db5e_a86c_11eb_be11_283a4d6fadeerow0_col6\" class=\"data row0 col6\" >nan</td>\n",
       "                        <td id=\"T_4e23db5e_a86c_11eb_be11_283a4d6fadeerow0_col7\" class=\"data row0 col7\" >0.7000</td>\n",
       "                        <td id=\"T_4e23db5e_a86c_11eb_be11_283a4d6fadeerow0_col8\" class=\"data row0 col8\" >0.0140</td>\n",
       "            </tr>\n",
       "            <tr>\n",
       "                        <th id=\"T_4e23db5e_a86c_11eb_be11_283a4d6fadeelevel0_row1\" class=\"row_heading level0 row1\" >knn</th>\n",
       "                        <td id=\"T_4e23db5e_a86c_11eb_be11_283a4d6fadeerow1_col0\" class=\"data row1 col0\" >K Neighbors Classifier</td>\n",
       "                        <td id=\"T_4e23db5e_a86c_11eb_be11_283a4d6fadeerow1_col1\" class=\"data row1 col1\" >1.0000</td>\n",
       "                        <td id=\"T_4e23db5e_a86c_11eb_be11_283a4d6fadeerow1_col2\" class=\"data row1 col2\" >0.7000</td>\n",
       "                        <td id=\"T_4e23db5e_a86c_11eb_be11_283a4d6fadeerow1_col3\" class=\"data row1 col3\" >0.7000</td>\n",
       "                        <td id=\"T_4e23db5e_a86c_11eb_be11_283a4d6fadeerow1_col4\" class=\"data row1 col4\" >0.7000</td>\n",
       "                        <td id=\"T_4e23db5e_a86c_11eb_be11_283a4d6fadeerow1_col5\" class=\"data row1 col5\" >0.7000</td>\n",
       "                        <td id=\"T_4e23db5e_a86c_11eb_be11_283a4d6fadeerow1_col6\" class=\"data row1 col6\" >nan</td>\n",
       "                        <td id=\"T_4e23db5e_a86c_11eb_be11_283a4d6fadeerow1_col7\" class=\"data row1 col7\" >0.7000</td>\n",
       "                        <td id=\"T_4e23db5e_a86c_11eb_be11_283a4d6fadeerow1_col8\" class=\"data row1 col8\" >0.0560</td>\n",
       "            </tr>\n",
       "            <tr>\n",
       "                        <th id=\"T_4e23db5e_a86c_11eb_be11_283a4d6fadeelevel0_row2\" class=\"row_heading level0 row2\" >nb</th>\n",
       "                        <td id=\"T_4e23db5e_a86c_11eb_be11_283a4d6fadeerow2_col0\" class=\"data row2 col0\" >Naive Bayes</td>\n",
       "                        <td id=\"T_4e23db5e_a86c_11eb_be11_283a4d6fadeerow2_col1\" class=\"data row2 col1\" >0.9875</td>\n",
       "                        <td id=\"T_4e23db5e_a86c_11eb_be11_283a4d6fadeerow2_col2\" class=\"data row2 col2\" >0.6500</td>\n",
       "                        <td id=\"T_4e23db5e_a86c_11eb_be11_283a4d6fadeerow2_col3\" class=\"data row2 col3\" >0.6000</td>\n",
       "                        <td id=\"T_4e23db5e_a86c_11eb_be11_283a4d6fadeerow2_col4\" class=\"data row2 col4\" >0.6000</td>\n",
       "                        <td id=\"T_4e23db5e_a86c_11eb_be11_283a4d6fadeerow2_col5\" class=\"data row2 col5\" >0.6000</td>\n",
       "                        <td id=\"T_4e23db5e_a86c_11eb_be11_283a4d6fadeerow2_col6\" class=\"data row2 col6\" >nan</td>\n",
       "                        <td id=\"T_4e23db5e_a86c_11eb_be11_283a4d6fadeerow2_col7\" class=\"data row2 col7\" >0.6000</td>\n",
       "                        <td id=\"T_4e23db5e_a86c_11eb_be11_283a4d6fadeerow2_col8\" class=\"data row2 col8\" >0.0120</td>\n",
       "            </tr>\n",
       "            <tr>\n",
       "                        <th id=\"T_4e23db5e_a86c_11eb_be11_283a4d6fadeelevel0_row3\" class=\"row_heading level0 row3\" >svm</th>\n",
       "                        <td id=\"T_4e23db5e_a86c_11eb_be11_283a4d6fadeerow3_col0\" class=\"data row3 col0\" >SVM - Linear Kernel</td>\n",
       "                        <td id=\"T_4e23db5e_a86c_11eb_be11_283a4d6fadeerow3_col1\" class=\"data row3 col1\" >0.9875</td>\n",
       "                        <td id=\"T_4e23db5e_a86c_11eb_be11_283a4d6fadeerow3_col2\" class=\"data row3 col2\" >0.0000</td>\n",
       "                        <td id=\"T_4e23db5e_a86c_11eb_be11_283a4d6fadeerow3_col3\" class=\"data row3 col3\" >0.6000</td>\n",
       "                        <td id=\"T_4e23db5e_a86c_11eb_be11_283a4d6fadeerow3_col4\" class=\"data row3 col4\" >0.6000</td>\n",
       "                        <td id=\"T_4e23db5e_a86c_11eb_be11_283a4d6fadeerow3_col5\" class=\"data row3 col5\" >0.6000</td>\n",
       "                        <td id=\"T_4e23db5e_a86c_11eb_be11_283a4d6fadeerow3_col6\" class=\"data row3 col6\" >nan</td>\n",
       "                        <td id=\"T_4e23db5e_a86c_11eb_be11_283a4d6fadeerow3_col7\" class=\"data row3 col7\" >0.6000</td>\n",
       "                        <td id=\"T_4e23db5e_a86c_11eb_be11_283a4d6fadeerow3_col8\" class=\"data row3 col8\" >0.0120</td>\n",
       "            </tr>\n",
       "            <tr>\n",
       "                        <th id=\"T_4e23db5e_a86c_11eb_be11_283a4d6fadeelevel0_row4\" class=\"row_heading level0 row4\" >ridge</th>\n",
       "                        <td id=\"T_4e23db5e_a86c_11eb_be11_283a4d6fadeerow4_col0\" class=\"data row4 col0\" >Ridge Classifier</td>\n",
       "                        <td id=\"T_4e23db5e_a86c_11eb_be11_283a4d6fadeerow4_col1\" class=\"data row4 col1\" >0.9875</td>\n",
       "                        <td id=\"T_4e23db5e_a86c_11eb_be11_283a4d6fadeerow4_col2\" class=\"data row4 col2\" >0.0000</td>\n",
       "                        <td id=\"T_4e23db5e_a86c_11eb_be11_283a4d6fadeerow4_col3\" class=\"data row4 col3\" >0.6000</td>\n",
       "                        <td id=\"T_4e23db5e_a86c_11eb_be11_283a4d6fadeerow4_col4\" class=\"data row4 col4\" >0.6000</td>\n",
       "                        <td id=\"T_4e23db5e_a86c_11eb_be11_283a4d6fadeerow4_col5\" class=\"data row4 col5\" >0.6000</td>\n",
       "                        <td id=\"T_4e23db5e_a86c_11eb_be11_283a4d6fadeerow4_col6\" class=\"data row4 col6\" >nan</td>\n",
       "                        <td id=\"T_4e23db5e_a86c_11eb_be11_283a4d6fadeerow4_col7\" class=\"data row4 col7\" >0.6000</td>\n",
       "                        <td id=\"T_4e23db5e_a86c_11eb_be11_283a4d6fadeerow4_col8\" class=\"data row4 col8\" >0.0130</td>\n",
       "            </tr>\n",
       "            <tr>\n",
       "                        <th id=\"T_4e23db5e_a86c_11eb_be11_283a4d6fadeelevel0_row5\" class=\"row_heading level0 row5\" >rf</th>\n",
       "                        <td id=\"T_4e23db5e_a86c_11eb_be11_283a4d6fadeerow5_col0\" class=\"data row5 col0\" >Random Forest Classifier</td>\n",
       "                        <td id=\"T_4e23db5e_a86c_11eb_be11_283a4d6fadeerow5_col1\" class=\"data row5 col1\" >0.9875</td>\n",
       "                        <td id=\"T_4e23db5e_a86c_11eb_be11_283a4d6fadeerow5_col2\" class=\"data row5 col2\" >0.7000</td>\n",
       "                        <td id=\"T_4e23db5e_a86c_11eb_be11_283a4d6fadeerow5_col3\" class=\"data row5 col3\" >0.6000</td>\n",
       "                        <td id=\"T_4e23db5e_a86c_11eb_be11_283a4d6fadeerow5_col4\" class=\"data row5 col4\" >0.6000</td>\n",
       "                        <td id=\"T_4e23db5e_a86c_11eb_be11_283a4d6fadeerow5_col5\" class=\"data row5 col5\" >0.6000</td>\n",
       "                        <td id=\"T_4e23db5e_a86c_11eb_be11_283a4d6fadeerow5_col6\" class=\"data row5 col6\" >nan</td>\n",
       "                        <td id=\"T_4e23db5e_a86c_11eb_be11_283a4d6fadeerow5_col7\" class=\"data row5 col7\" >0.6000</td>\n",
       "                        <td id=\"T_4e23db5e_a86c_11eb_be11_283a4d6fadeerow5_col8\" class=\"data row5 col8\" >0.2070</td>\n",
       "            </tr>\n",
       "            <tr>\n",
       "                        <th id=\"T_4e23db5e_a86c_11eb_be11_283a4d6fadeelevel0_row6\" class=\"row_heading level0 row6\" >qda</th>\n",
       "                        <td id=\"T_4e23db5e_a86c_11eb_be11_283a4d6fadeerow6_col0\" class=\"data row6 col0\" >Quadratic Discriminant Analysis</td>\n",
       "                        <td id=\"T_4e23db5e_a86c_11eb_be11_283a4d6fadeerow6_col1\" class=\"data row6 col1\" >0.9875</td>\n",
       "                        <td id=\"T_4e23db5e_a86c_11eb_be11_283a4d6fadeerow6_col2\" class=\"data row6 col2\" >0.6500</td>\n",
       "                        <td id=\"T_4e23db5e_a86c_11eb_be11_283a4d6fadeerow6_col3\" class=\"data row6 col3\" >0.6000</td>\n",
       "                        <td id=\"T_4e23db5e_a86c_11eb_be11_283a4d6fadeerow6_col4\" class=\"data row6 col4\" >0.6000</td>\n",
       "                        <td id=\"T_4e23db5e_a86c_11eb_be11_283a4d6fadeerow6_col5\" class=\"data row6 col5\" >0.6000</td>\n",
       "                        <td id=\"T_4e23db5e_a86c_11eb_be11_283a4d6fadeerow6_col6\" class=\"data row6 col6\" >nan</td>\n",
       "                        <td id=\"T_4e23db5e_a86c_11eb_be11_283a4d6fadeerow6_col7\" class=\"data row6 col7\" >0.6000</td>\n",
       "                        <td id=\"T_4e23db5e_a86c_11eb_be11_283a4d6fadeerow6_col8\" class=\"data row6 col8\" >0.0160</td>\n",
       "            </tr>\n",
       "            <tr>\n",
       "                        <th id=\"T_4e23db5e_a86c_11eb_be11_283a4d6fadeelevel0_row7\" class=\"row_heading level0 row7\" >lda</th>\n",
       "                        <td id=\"T_4e23db5e_a86c_11eb_be11_283a4d6fadeerow7_col0\" class=\"data row7 col0\" >Linear Discriminant Analysis</td>\n",
       "                        <td id=\"T_4e23db5e_a86c_11eb_be11_283a4d6fadeerow7_col1\" class=\"data row7 col1\" >0.9875</td>\n",
       "                        <td id=\"T_4e23db5e_a86c_11eb_be11_283a4d6fadeerow7_col2\" class=\"data row7 col2\" >0.6929</td>\n",
       "                        <td id=\"T_4e23db5e_a86c_11eb_be11_283a4d6fadeerow7_col3\" class=\"data row7 col3\" >0.7000</td>\n",
       "                        <td id=\"T_4e23db5e_a86c_11eb_be11_283a4d6fadeerow7_col4\" class=\"data row7 col4\" >0.6500</td>\n",
       "                        <td id=\"T_4e23db5e_a86c_11eb_be11_283a4d6fadeerow7_col5\" class=\"data row7 col5\" >0.6667</td>\n",
       "                        <td id=\"T_4e23db5e_a86c_11eb_be11_283a4d6fadeerow7_col6\" class=\"data row7 col6\" >nan</td>\n",
       "                        <td id=\"T_4e23db5e_a86c_11eb_be11_283a4d6fadeerow7_col7\" class=\"data row7 col7\" >0.6655</td>\n",
       "                        <td id=\"T_4e23db5e_a86c_11eb_be11_283a4d6fadeerow7_col8\" class=\"data row7 col8\" >0.0130</td>\n",
       "            </tr>\n",
       "            <tr>\n",
       "                        <th id=\"T_4e23db5e_a86c_11eb_be11_283a4d6fadeelevel0_row8\" class=\"row_heading level0 row8\" >et</th>\n",
       "                        <td id=\"T_4e23db5e_a86c_11eb_be11_283a4d6fadeerow8_col0\" class=\"data row8 col0\" >Extra Trees Classifier</td>\n",
       "                        <td id=\"T_4e23db5e_a86c_11eb_be11_283a4d6fadeerow8_col1\" class=\"data row8 col1\" >0.9875</td>\n",
       "                        <td id=\"T_4e23db5e_a86c_11eb_be11_283a4d6fadeerow8_col2\" class=\"data row8 col2\" >0.7000</td>\n",
       "                        <td id=\"T_4e23db5e_a86c_11eb_be11_283a4d6fadeerow8_col3\" class=\"data row8 col3\" >0.6000</td>\n",
       "                        <td id=\"T_4e23db5e_a86c_11eb_be11_283a4d6fadeerow8_col4\" class=\"data row8 col4\" >0.6000</td>\n",
       "                        <td id=\"T_4e23db5e_a86c_11eb_be11_283a4d6fadeerow8_col5\" class=\"data row8 col5\" >0.6000</td>\n",
       "                        <td id=\"T_4e23db5e_a86c_11eb_be11_283a4d6fadeerow8_col6\" class=\"data row8 col6\" >nan</td>\n",
       "                        <td id=\"T_4e23db5e_a86c_11eb_be11_283a4d6fadeerow8_col7\" class=\"data row8 col7\" >0.6000</td>\n",
       "                        <td id=\"T_4e23db5e_a86c_11eb_be11_283a4d6fadeerow8_col8\" class=\"data row8 col8\" >0.2000</td>\n",
       "            </tr>\n",
       "            <tr>\n",
       "                        <th id=\"T_4e23db5e_a86c_11eb_be11_283a4d6fadeelevel0_row9\" class=\"row_heading level0 row9\" >dt</th>\n",
       "                        <td id=\"T_4e23db5e_a86c_11eb_be11_283a4d6fadeerow9_col0\" class=\"data row9 col0\" >Decision Tree Classifier</td>\n",
       "                        <td id=\"T_4e23db5e_a86c_11eb_be11_283a4d6fadeerow9_col1\" class=\"data row9 col1\" >0.9625</td>\n",
       "                        <td id=\"T_4e23db5e_a86c_11eb_be11_283a4d6fadeerow9_col2\" class=\"data row9 col2\" >0.5929</td>\n",
       "                        <td id=\"T_4e23db5e_a86c_11eb_be11_283a4d6fadeerow9_col3\" class=\"data row9 col3\" >0.5000</td>\n",
       "                        <td id=\"T_4e23db5e_a86c_11eb_be11_283a4d6fadeerow9_col4\" class=\"data row9 col4\" >0.4500</td>\n",
       "                        <td id=\"T_4e23db5e_a86c_11eb_be11_283a4d6fadeerow9_col5\" class=\"data row9 col5\" >0.4667</td>\n",
       "                        <td id=\"T_4e23db5e_a86c_11eb_be11_283a4d6fadeerow9_col6\" class=\"data row9 col6\" >nan</td>\n",
       "                        <td id=\"T_4e23db5e_a86c_11eb_be11_283a4d6fadeerow9_col7\" class=\"data row9 col7\" >0.4655</td>\n",
       "                        <td id=\"T_4e23db5e_a86c_11eb_be11_283a4d6fadeerow9_col8\" class=\"data row9 col8\" >0.0130</td>\n",
       "            </tr>\n",
       "            <tr>\n",
       "                        <th id=\"T_4e23db5e_a86c_11eb_be11_283a4d6fadeelevel0_row10\" class=\"row_heading level0 row10\" >ada</th>\n",
       "                        <td id=\"T_4e23db5e_a86c_11eb_be11_283a4d6fadeerow10_col0\" class=\"data row10 col0\" >Ada Boost Classifier</td>\n",
       "                        <td id=\"T_4e23db5e_a86c_11eb_be11_283a4d6fadeerow10_col1\" class=\"data row10 col1\" >0.9625</td>\n",
       "                        <td id=\"T_4e23db5e_a86c_11eb_be11_283a4d6fadeerow10_col2\" class=\"data row10 col2\" >0.5929</td>\n",
       "                        <td id=\"T_4e23db5e_a86c_11eb_be11_283a4d6fadeerow10_col3\" class=\"data row10 col3\" >0.5000</td>\n",
       "                        <td id=\"T_4e23db5e_a86c_11eb_be11_283a4d6fadeerow10_col4\" class=\"data row10 col4\" >0.4500</td>\n",
       "                        <td id=\"T_4e23db5e_a86c_11eb_be11_283a4d6fadeerow10_col5\" class=\"data row10 col5\" >0.4667</td>\n",
       "                        <td id=\"T_4e23db5e_a86c_11eb_be11_283a4d6fadeerow10_col6\" class=\"data row10 col6\" >nan</td>\n",
       "                        <td id=\"T_4e23db5e_a86c_11eb_be11_283a4d6fadeerow10_col7\" class=\"data row10 col7\" >0.4655</td>\n",
       "                        <td id=\"T_4e23db5e_a86c_11eb_be11_283a4d6fadeerow10_col8\" class=\"data row10 col8\" >0.0340</td>\n",
       "            </tr>\n",
       "            <tr>\n",
       "                        <th id=\"T_4e23db5e_a86c_11eb_be11_283a4d6fadeelevel0_row11\" class=\"row_heading level0 row11\" >gbc</th>\n",
       "                        <td id=\"T_4e23db5e_a86c_11eb_be11_283a4d6fadeerow11_col0\" class=\"data row11 col0\" >Gradient Boosting Classifier</td>\n",
       "                        <td id=\"T_4e23db5e_a86c_11eb_be11_283a4d6fadeerow11_col1\" class=\"data row11 col1\" >0.9625</td>\n",
       "                        <td id=\"T_4e23db5e_a86c_11eb_be11_283a4d6fadeerow11_col2\" class=\"data row11 col2\" >0.5571</td>\n",
       "                        <td id=\"T_4e23db5e_a86c_11eb_be11_283a4d6fadeerow11_col3\" class=\"data row11 col3\" >0.5000</td>\n",
       "                        <td id=\"T_4e23db5e_a86c_11eb_be11_283a4d6fadeerow11_col4\" class=\"data row11 col4\" >0.4500</td>\n",
       "                        <td id=\"T_4e23db5e_a86c_11eb_be11_283a4d6fadeerow11_col5\" class=\"data row11 col5\" >0.4667</td>\n",
       "                        <td id=\"T_4e23db5e_a86c_11eb_be11_283a4d6fadeerow11_col6\" class=\"data row11 col6\" >nan</td>\n",
       "                        <td id=\"T_4e23db5e_a86c_11eb_be11_283a4d6fadeerow11_col7\" class=\"data row11 col7\" >0.4655</td>\n",
       "                        <td id=\"T_4e23db5e_a86c_11eb_be11_283a4d6fadeerow11_col8\" class=\"data row11 col8\" >0.0270</td>\n",
       "            </tr>\n",
       "            <tr>\n",
       "                        <th id=\"T_4e23db5e_a86c_11eb_be11_283a4d6fadeelevel0_row12\" class=\"row_heading level0 row12\" >lightgbm</th>\n",
       "                        <td id=\"T_4e23db5e_a86c_11eb_be11_283a4d6fadeerow12_col0\" class=\"data row12 col0\" >Light Gradient Boosting Machine</td>\n",
       "                        <td id=\"T_4e23db5e_a86c_11eb_be11_283a4d6fadeerow12_col1\" class=\"data row12 col1\" >0.9625</td>\n",
       "                        <td id=\"T_4e23db5e_a86c_11eb_be11_283a4d6fadeerow12_col2\" class=\"data row12 col2\" >0.6214</td>\n",
       "                        <td id=\"T_4e23db5e_a86c_11eb_be11_283a4d6fadeerow12_col3\" class=\"data row12 col3\" >0.5000</td>\n",
       "                        <td id=\"T_4e23db5e_a86c_11eb_be11_283a4d6fadeerow12_col4\" class=\"data row12 col4\" >0.4500</td>\n",
       "                        <td id=\"T_4e23db5e_a86c_11eb_be11_283a4d6fadeerow12_col5\" class=\"data row12 col5\" >0.4667</td>\n",
       "                        <td id=\"T_4e23db5e_a86c_11eb_be11_283a4d6fadeerow12_col6\" class=\"data row12 col6\" >nan</td>\n",
       "                        <td id=\"T_4e23db5e_a86c_11eb_be11_283a4d6fadeerow12_col7\" class=\"data row12 col7\" >0.4655</td>\n",
       "                        <td id=\"T_4e23db5e_a86c_11eb_be11_283a4d6fadeerow12_col8\" class=\"data row12 col8\" >0.0170</td>\n",
       "            </tr>\n",
       "    </tbody></table>"
      ],
      "text/plain": [
       "<pandas.io.formats.style.Styler at 0x17bf6551a90>"
      ]
     },
     "metadata": {},
     "output_type": "display_data"
    },
    {
     "data": {
      "text/plain": [
       "LogisticRegression(C=1.0, class_weight=None, dual=False, fit_intercept=True,\n",
       "                   intercept_scaling=1, l1_ratio=None, max_iter=1000,\n",
       "                   multi_class='auto', n_jobs=None, penalty='l2',\n",
       "                   random_state=123, solver='lbfgs', tol=0.0001, verbose=0,\n",
       "                   warm_start=False)"
      ]
     },
     "metadata": {},
     "output_type": "display_data"
    }
   ],
   "source": [
    "%run -i FeatureModeling/FeatureModeling.py\n"
   ]
  },
  {
   "cell_type": "code",
   "execution_count": null,
   "metadata": {},
   "outputs": [],
   "source": []
  }
 ],
 "metadata": {
  "colab": {
   "authorship_tag": "ABX9TyO/Z98IREy8dzuL3ISb0NdV",
   "collapsed_sections": [],
   "name": "Segmentor.ipynb",
   "provenance": []
  },
  "kernelspec": {
   "display_name": "pycaret2",
   "language": "python",
   "name": "pycaret2"
  },
  "language_info": {
   "codemirror_mode": {
    "name": "ipython",
    "version": 3
   },
   "file_extension": ".py",
   "mimetype": "text/x-python",
   "name": "python",
   "nbconvert_exporter": "python",
   "pygments_lexer": "ipython3",
   "version": "3.6.13"
  },
  "metadata": {
   "interpreter": {
    "hash": "f3640f6259ccd301e6fab036d4c63b0c88a475ed616cc9240a26db31623189b0"
   }
  }
 },
 "nbformat": 4,
 "nbformat_minor": 1
}
