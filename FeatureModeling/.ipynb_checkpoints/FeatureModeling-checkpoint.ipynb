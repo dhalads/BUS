{
 "cells": [
  {
   "cell_type": "code",
   "execution_count": null,
   "metadata": {
    "colab": {
     "base_uri": "https://localhost:8080/"
    },
    "executionInfo": {
     "elapsed": 403,
     "status": "ok",
     "timestamp": 1619007336873,
     "user": {
      "displayName": "David Halama",
      "photoUrl": "",
      "userId": "17455498899351588490"
     },
     "user_tz": 300
    },
    "id": "3gB0RPwXOhi3",
    "outputId": "e4ccbe23-48a6-4700-df3f-18bbe9b9c74b"
   },
   "outputs": [],
   "source": [
    "try\n",
    "    from google.colab import drive\n",
    "    drive.mount('/content/gdrive')\n",
    "\n",
    "\n"
   ]
  },
  {
   "cell_type": "code",
   "execution_count": 1,
   "metadata": {
    "colab": {
     "base_uri": "https://localhost:8080/"
    },
    "executionInfo": {
     "elapsed": 585,
     "status": "ok",
     "timestamp": 1619006784888,
     "user": {
      "displayName": "David Halama",
      "photoUrl": "",
      "userId": "17455498899351588490"
     },
     "user_tz": 300
    },
    "id": "zKccbmVUO3B3",
    "outputId": "6fd9219c-2252-4a3a-c39a-1e2cc9064f1d"
   },
   "outputs": [
    {
     "name": "stdout",
     "output_type": "stream",
     "text": [
      "C:\\Users\\djhalama\\Documents\\GitHub\\BUS\\FeatureModeling\n",
      "C:\\Users\\djhalama\\Documents\\GitHub\\BUS\\FeatureModeling\n"
     ]
    }
   ],
   "source": [
    "import os\n",
    "print(os.getcwd())\n",
    "# os.chdir(\"/content/gdrive/MyDrive/Documents/Segmentation\")\n",
    "print(os.getcwd())"
   ]
  },
  {
   "cell_type": "code",
   "execution_count": 11,
   "metadata": {
    "scrolled": false
   },
   "outputs": [
    {
     "name": "stdout",
     "output_type": "stream",
     "text": [
      "The shape is (163, 19)\n",
      "<class 'pandas.core.frame.DataFrame'>\n",
      "RangeIndex: 163 entries, 0 to 162\n",
      "Data columns (total 19 columns):\n",
      " #   Column                   Non-Null Count  Dtype  \n",
      "---  ------                   --------------  -----  \n",
      " 0   Sample_name              163 non-null    object \n",
      " 1   zzPeripheral_ZoneACR     23 non-null     object \n",
      " 2   Peripheral ZoneTS        147 non-null    object \n",
      " 3   Marginal ZoneACR         150 non-null    object \n",
      " 4   Boundary ZoneACR         132 non-null    object \n",
      " 5   MarginalBoundary ZoneTS  151 non-null    object \n",
      " 6   ShapeACR                 151 non-null    object \n",
      " 7   ShapeTS                  152 non-null    object \n",
      " 8   Orientation              149 non-null    object \n",
      " 9   Echo PatternACR          152 non-null    object \n",
      " 10  Echo PatternTS           151 non-null    object \n",
      " 11  Posterior FeaturesACR    150 non-null    object \n",
      " 12  Posterior FeaturesTS     151 non-null    object \n",
      " 13  VascularityACR           160 non-null    object \n",
      " 14  Size                     161 non-null    float64\n",
      " 15  Histology                163 non-null    object \n",
      " 16  Lesion Type              160 non-null    object \n",
      " 17  BI-RADS                  156 non-null    object \n",
      " 18  Quality                  157 non-null    float64\n",
      "dtypes: float64(2), object(17)\n",
      "memory usage: 24.3+ KB\n",
      "None\n",
      "Sample_name                  0\n",
      "zzPeripheral_ZoneACR       140\n",
      "Peripheral ZoneTS           16\n",
      "Marginal ZoneACR            13\n",
      "Boundary ZoneACR            31\n",
      "MarginalBoundary ZoneTS     12\n",
      "ShapeACR                    12\n",
      "ShapeTS                     11\n",
      "Orientation                 14\n",
      "Echo PatternACR             11\n",
      "Echo PatternTS              12\n",
      "Posterior FeaturesACR       13\n",
      "Posterior FeaturesTS        12\n",
      "VascularityACR               3\n",
      "Size                         2\n",
      "Histology                    0\n",
      "Lesion Type                  3\n",
      "BI-RADS                      7\n",
      "Quality                      6\n",
      "dtype: int64\n",
      "Your selected dataframe has 19 columns.\n",
      "There are 17 columns that have missing values.\n"
     ]
    },
    {
     "data": {
      "text/html": [
       "<div>\n",
       "<style scoped>\n",
       "    .dataframe tbody tr th:only-of-type {\n",
       "        vertical-align: middle;\n",
       "    }\n",
       "\n",
       "    .dataframe tbody tr th {\n",
       "        vertical-align: top;\n",
       "    }\n",
       "\n",
       "    .dataframe thead th {\n",
       "        text-align: right;\n",
       "    }\n",
       "</style>\n",
       "<table border=\"1\" class=\"dataframe\">\n",
       "  <thead>\n",
       "    <tr style=\"text-align: right;\">\n",
       "      <th></th>\n",
       "      <th>Missing Values</th>\n",
       "      <th>% of Total Values</th>\n",
       "    </tr>\n",
       "  </thead>\n",
       "  <tbody>\n",
       "    <tr>\n",
       "      <th>zzPeripheral_ZoneACR</th>\n",
       "      <td>140</td>\n",
       "      <td>85.9</td>\n",
       "    </tr>\n",
       "    <tr>\n",
       "      <th>Boundary ZoneACR</th>\n",
       "      <td>31</td>\n",
       "      <td>19.0</td>\n",
       "    </tr>\n",
       "    <tr>\n",
       "      <th>Peripheral ZoneTS</th>\n",
       "      <td>16</td>\n",
       "      <td>9.8</td>\n",
       "    </tr>\n",
       "    <tr>\n",
       "      <th>Orientation</th>\n",
       "      <td>14</td>\n",
       "      <td>8.6</td>\n",
       "    </tr>\n",
       "    <tr>\n",
       "      <th>Posterior FeaturesACR</th>\n",
       "      <td>13</td>\n",
       "      <td>8.0</td>\n",
       "    </tr>\n",
       "    <tr>\n",
       "      <th>Marginal ZoneACR</th>\n",
       "      <td>13</td>\n",
       "      <td>8.0</td>\n",
       "    </tr>\n",
       "    <tr>\n",
       "      <th>MarginalBoundary ZoneTS</th>\n",
       "      <td>12</td>\n",
       "      <td>7.4</td>\n",
       "    </tr>\n",
       "    <tr>\n",
       "      <th>ShapeACR</th>\n",
       "      <td>12</td>\n",
       "      <td>7.4</td>\n",
       "    </tr>\n",
       "    <tr>\n",
       "      <th>Posterior FeaturesTS</th>\n",
       "      <td>12</td>\n",
       "      <td>7.4</td>\n",
       "    </tr>\n",
       "    <tr>\n",
       "      <th>Echo PatternTS</th>\n",
       "      <td>12</td>\n",
       "      <td>7.4</td>\n",
       "    </tr>\n",
       "    <tr>\n",
       "      <th>Echo PatternACR</th>\n",
       "      <td>11</td>\n",
       "      <td>6.7</td>\n",
       "    </tr>\n",
       "    <tr>\n",
       "      <th>ShapeTS</th>\n",
       "      <td>11</td>\n",
       "      <td>6.7</td>\n",
       "    </tr>\n",
       "    <tr>\n",
       "      <th>BI-RADS</th>\n",
       "      <td>7</td>\n",
       "      <td>4.3</td>\n",
       "    </tr>\n",
       "    <tr>\n",
       "      <th>Quality</th>\n",
       "      <td>6</td>\n",
       "      <td>3.7</td>\n",
       "    </tr>\n",
       "    <tr>\n",
       "      <th>VascularityACR</th>\n",
       "      <td>3</td>\n",
       "      <td>1.8</td>\n",
       "    </tr>\n",
       "    <tr>\n",
       "      <th>Lesion Type</th>\n",
       "      <td>3</td>\n",
       "      <td>1.8</td>\n",
       "    </tr>\n",
       "    <tr>\n",
       "      <th>Size</th>\n",
       "      <td>2</td>\n",
       "      <td>1.2</td>\n",
       "    </tr>\n",
       "  </tbody>\n",
       "</table>\n",
       "</div>"
      ],
      "text/plain": [
       "                         Missing Values  % of Total Values\n",
       "zzPeripheral_ZoneACR                140               85.9\n",
       "Boundary ZoneACR                     31               19.0\n",
       "Peripheral ZoneTS                    16                9.8\n",
       "Orientation                          14                8.6\n",
       "Posterior FeaturesACR                13                8.0\n",
       "Marginal ZoneACR                     13                8.0\n",
       "MarginalBoundary ZoneTS              12                7.4\n",
       "ShapeACR                             12                7.4\n",
       "Posterior FeaturesTS                 12                7.4\n",
       "Echo PatternTS                       12                7.4\n",
       "Echo PatternACR                      11                6.7\n",
       "ShapeTS                              11                6.7\n",
       "BI-RADS                               7                4.3\n",
       "Quality                               6                3.7\n",
       "VascularityACR                        3                1.8\n",
       "Lesion Type                           3                1.8\n",
       "Size                                  2                1.2"
      ]
     },
     "metadata": {},
     "output_type": "display_data"
    },
    {
     "name": "stdout",
     "output_type": "stream",
     "text": [
      "The shape is (163, 19)\n"
     ]
    }
   ],
   "source": [
    "%run -i FeatureModeling.py"
   ]
  },
  {
   "cell_type": "code",
   "execution_count": null,
   "metadata": {},
   "outputs": [],
   "source": []
  }
 ],
 "metadata": {
  "colab": {
   "authorship_tag": "ABX9TyO/Z98IREy8dzuL3ISb0NdV",
   "collapsed_sections": [],
   "name": "Segmentor.ipynb",
   "provenance": []
  },
  "kernelspec": {
   "display_name": "pycaret2",
   "language": "python",
   "name": "pycaret2"
  },
  "language_info": {
   "codemirror_mode": {
    "name": "ipython",
    "version": 3
   },
   "file_extension": ".py",
   "mimetype": "text/x-python",
   "name": "python",
   "nbconvert_exporter": "python",
   "pygments_lexer": "ipython3",
   "version": "3.6.13"
  },
  "metadata": {
   "interpreter": {
    "hash": "f3640f6259ccd301e6fab036d4c63b0c88a475ed616cc9240a26db31623189b0"
   }
  }
 },
 "nbformat": 4,
 "nbformat_minor": 1
}
